{
 "cells": [
  {
   "cell_type": "markdown",
   "id": "452acfd6",
   "metadata": {},
   "source": [
    "# Problem 3: Poisson Regression\n"
   ]
  },
  {
   "cell_type": "markdown",
   "id": "c6c0c6ef",
   "metadata": {},
   "source": [
    "## (a)\n",
    "In this exercise, we show that the Poisson distribtion is part of the exponential family. We compute\n",
    "\\begin{align}\n",
    "    p(y;\\lambda) = \\frac{e^{-\\lambda}\\lambda^{y}}{y!}=\\frac{1}{y!}e^{-\\lambda}e^{\\log(\\lambda)y}=\\frac{1}{y!}e^{(\\log(\\lambda)y-\\lambda}\n",
    "\\end{align}\n",
    "from which we see that the Poisson distribution is part of the exponential family with:\n",
    "\\begin{align}\n",
    "    & b(y) = 1/y!\\\\\n",
    "    & \\eta = \\log(\\lambda)\\\\\n",
    "    & T(y)=y\\\\\n",
    "    & a(\\eta)=\\lambda = e^{\\log(\\lambda)}=e^{\\eta}\n",
    "\\end{align}\n",
    "## (b) and (c)\n",
    "We now have to derive the canonical response function for gradient ascent. For a training sample $(x,y)$, we compute the log likelihood:\n",
    "\\begin{align}\n",
    "    \\log(p(y\\mid x)) &= \\log(\\frac{e^{-\\lambda}\\lambda^y}{y!})\\\\\n",
    "    &=-\\lambda+y\\log(\\lambda)-\\log(y!)\\\\\n",
    "    &=-e^{\\log(\\lambda)}+y\\log(e^{\\log(\\lambda)})-\\log(y!)\\\\\n",
    "    &=-e^{\\eta}+y\\log(e^{\\eta})-\\log(y!)\\\\\n",
    "    &=-e^{\\eta}+y\\eta-\\log(y!)\\\\\n",
    "    &=-e^{\\theta^T x)}+y\\cdot \\theta^T x-\\log(y!)\n",
    "\\end{align}\n",
    "Hence, the derivative with respect to $\\theta_j$ of the log likelihood is:\n",
    "\\begin{align}\n",
    "    \\partial\\ell / \\partial\\theta_j = -e^{\\theta^T x}x_j+y\\cdot x_j = (y-e^{\\theta^T x})x_j\n",
    "\\end{align}\n",
    "Hence, the canonical stochastic gradient ascent update rule for a sample $(x,y)$ is:\n",
    "\\begin{align}\n",
    "    \\theta_j := \\theta_j + \\alpha (y-e^{\\theta^T x})\\cdot x_j\\quad \\mbox{ for }j=1,\\dots, n\n",
    "\\end{align}\n",
    "where $\\alpha$ is the learning rate.\n"
   ]
  },
  {
   "cell_type": "markdown",
   "id": "785373a9",
   "metadata": {},
   "source": [
    "## (d)\n",
    "We now implement Poisson regression and apply it to some dataset."
   ]
  },
  {
   "cell_type": "code",
   "execution_count": 186,
   "id": "ce2193c4",
   "metadata": {},
   "outputs": [],
   "source": [
    "import numpy as np\n",
    "import sys\n",
    "sys.path.insert(0,\"/home/kasperh/Documents/MachineLearning/PS1/src\")\n",
    "import util\n",
    "from linear_model import LinearModel\n",
    "import matplotlib.pyplot as plt\n",
    "\n",
    "\n",
    "\n",
    "class PoissonRegression(LinearModel):\n",
    "    \"\"\"Poisson Regression.\n",
    "\n",
    "    Example usage:\n",
    "        > clf = PoissonRegression(step_size=lr)\n",
    "        > clf.fit(x_train, y_train)\n",
    "        > clf.predict(x_eval)\n",
    "    \"\"\"\n",
    "\n",
    "    def fit(self, x, y):\n",
    "        \"\"\"Run gradient ascent to maximize likelihood for Poisson regression.\n",
    "\n",
    "        Args:\n",
    "            x: Training example inputs. Shape (m, n).\n",
    "            y: Training example labels. Shape (m,).\n",
    "        \"\"\"\n",
    "        # *** START CODE HERE ***\n",
    "        m,n = len(x),len(x[0])\n",
    "        self.theta = np.zeros(n)\n",
    "        lr = 10**(-7)\n",
    "        \n",
    "        #gradient ascent, ikke vektoriseret\n",
    "        #while(True):\n",
    "        #    theta_old = np.copy(self.theta)\n",
    "        #    for j in range(n):\n",
    "        #        temp = 0\n",
    "        #        for i in range(m):\n",
    "        #            temp += lr*(y[i]-np.exp(self.theta@x[i]))*x[i][j]\n",
    "        #       self.theta[j] += temp/m\n",
    "        #    if(np.linalg.norm(theta_old-self.theta) <= 0.001):\n",
    "        #        break\n",
    "        \n",
    "        #gradient ascent, vektoriseret\n",
    "        while(True):\n",
    "            theta_old = np.copy(self.theta)\n",
    "            self.theta += (lr/m)*(x.T@y-x.T@np.exp(x@self.theta))\n",
    "            if(np.linalg.norm(theta_old-self.theta) <= 0.00001):\n",
    "                break\n",
    "                \n",
    "        # *** END CODE HERE ***\n",
    "\n",
    "    def predict(self, x):\n",
    "        \"\"\"Make a prediction given inputs x.\n",
    "\n",
    "        Args:\n",
    "            x: Inputs of shape (m, n).\n",
    "\n",
    "        Returns:\n",
    "            Floating-point prediction for each input, shape (m,).\n",
    "        \"\"\"\n",
    "        # *** START CODE HERE ***\n",
    "        pred = np.exp(x@self.theta)\n",
    "        return pred\n",
    "        # *** END CODE HERE ***\n"
   ]
  },
  {
   "cell_type": "code",
   "execution_count": 187,
   "id": "6af2c65b",
   "metadata": {},
   "outputs": [
    {
     "data": {
      "text/plain": [
       "[<matplotlib.lines.Line2D at 0x7f2d3d871d20>]"
      ]
     },
     "execution_count": 187,
     "metadata": {},
     "output_type": "execute_result"
    },
    {
     "data": {
      "image/png": "[encoded data removed]",
      "text/plain": [
       "<Figure size 640x480 with 1 Axes>"
      ]
     },
     "metadata": {},
     "output_type": "display_data"
    }
   ],
   "source": [
    "train_path = \"data/ds4_train.csv\"\n",
    "valid_path = \"data/ds4_valid.csv\"\n",
    "\n",
    "x_train,y_train = util.load_dataset(train_path,label_col = \"y\",add_intercept = True)\n",
    "x_valid,y_valid = util.load_dataset(valid_path,label_col = \"y\",add_intercept = True)\n",
    "\n",
    "model = PoissonRegression()\n",
    "model.fit(x_train,y_train)\n",
    "pred = model.predict(x_valid)\n",
    "\n",
    "plt.figure()\n",
    "plt.plot(y_valid,pred)\n",
    "#plt.plot(x_train, y_train, 'bo')\n",
    "#plt.plot(x_train, pred, 'go')\n"
   ]
  },
  {
   "cell_type": "code",
   "execution_count": null,
   "id": "88d4c50b",
   "metadata": {},
   "outputs": [],
   "source": []
  }
 ],
 "metadata": {
  "kernelspec": {
   "display_name": "Python 3 (ipykernel)",
   "language": "python",
   "name": "python3"
  },
  "language_info": {
   "codemirror_mode": {
    "name": "ipython",
    "version": 3
   },
   "file_extension": ".py",
   "mimetype": "text/x-python",
   "name": "python",
   "nbconvert_exporter": "python",
   "pygments_lexer": "ipython3",
   "version": "3.10.10"
  }
 },
 "nbformat": 4,
 "nbformat_minor": 5
}
