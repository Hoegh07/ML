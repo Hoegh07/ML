{
 "cells": [
  {
   "cell_type": "markdown",
   "id": "a8c86f1a",
   "metadata": {},
   "source": [
    "# Problem 1: A Simple Neural Network¶"
   ]
  },
  {
   "cell_type": "code",
   "execution_count": 20,
   "id": "6f85128a",
   "metadata": {},
   "outputs": [],
   "source": [
    "import sys\n",
    "sys.path.append(\"src\")\n",
    "import util\n",
    "import matplotlib.pyplot as plt"
   ]
  },
  {
   "cell_type": "markdown",
   "id": "416f16f4",
   "metadata": {},
   "source": [
    "## (a)\n",
    "..."
   ]
  },
  {
   "cell_type": "markdown",
   "id": "03460ea3",
   "metadata": {},
   "source": [
    "## (b)\n",
    "..."
   ]
  },
  {
   "cell_type": "code",
   "execution_count": 23,
   "id": "09a02613",
   "metadata": {},
   "outputs": [],
   "source": [
    "import json\n",
    "\n",
    "def example_weights():\n",
    "    \"\"\"This is an example function that returns weights.\n",
    "    Use this function as a template for optimal_step_weights and optimal_sigmoid_weights.\n",
    "    You do not need to modify this class for this assignment.\n",
    "    \"\"\"\n",
    "    w = {}\n",
    "\n",
    "    w['hidden_layer_0_1'] = 0\n",
    "    w['hidden_layer_1_1'] = 0\n",
    "    w['hidden_layer_2_1'] = 0\n",
    "    w['hidden_layer_0_2'] = 0\n",
    "    w['hidden_layer_1_2'] = 0\n",
    "    w['hidden_layer_2_2'] = 0\n",
    "    w['hidden_layer_0_3'] = 0\n",
    "    w['hidden_layer_1_3'] = 0\n",
    "    w['hidden_layer_2_3'] = 0\n",
    "\n",
    "    w['output_layer_0'] = 0\n",
    "    w['output_layer_1'] = 0\n",
    "    w['output_layer_2'] = 0\n",
    "    w['output_layer_3'] = 0\n",
    "\n",
    "    return w\n",
    "\n",
    "\n",
    "def optimal_step_weights():\n",
    "    \"\"\"Return the optimal weights for the neural network with a step activation function.\n",
    "    \n",
    "    This function will not be graded if there are no optimal weights.\n",
    "    See the PDF for instructions on what each weight represents.\n",
    "    \n",
    "    The hidden layer weights are notated by [1] on the problem set and \n",
    "    the output layer weights are notated by [2].\n",
    "\n",
    "    This function should return a dict with elements for each weight, see example_weights above.\n",
    "\n",
    "    \"\"\"\n",
    "    w = example_weights()\n",
    "\n",
    "    # *** START CODE HERE ***\n",
    "    # *** END CODE HERE ***\n",
    "\n",
    "    return w\n",
    "\n",
    "def optimal_linear_weights():\n",
    "    \"\"\"Return the optimal weights for the neural network with a linear activation function for the hidden units.\n",
    "    \n",
    "    This function will not be graded if there are no optimal weights.\n",
    "    See the PDF for instructions on what each weight represents.\n",
    "    \n",
    "    The hidden layer weights are notated by [1] on the problem set and \n",
    "    the output layer weights are notated by [2].\n",
    "\n",
    "    This function should return a dict with elements for each weight, see example_weights above.\n",
    "\n",
    "    \"\"\"\n",
    "    w = example_weights()\n",
    "\n",
    "    # *** START CODE HERE ***\n",
    "    # *** END CODE HERE ***\n",
    "\n",
    "    return w\n",
    "\n",
    "if __name__ == \"__main__\":\n",
    "    step_weights = optimal_step_weights()\n",
    "\n",
    "    with open('output/step_weights', 'w') as f:\n",
    "        json.dump(step_weights, f)\n",
    "\n",
    "    linear_weights = optimal_linear_weights()\n",
    "\n",
    "    with open('output/linear_weights', 'w') as f:\n",
    "        json.dump(linear_weights, f)"
   ]
  },
  {
   "cell_type": "code",
   "execution_count": null,
   "id": "c10453a6",
   "metadata": {},
   "outputs": [],
   "source": []
  },
  {
   "cell_type": "code",
   "execution_count": null,
   "id": "5b87b223",
   "metadata": {},
   "outputs": [],
   "source": []
  },
  {
   "cell_type": "code",
   "execution_count": null,
   "id": "a67c2e11",
   "metadata": {},
   "outputs": [],
   "source": []
  },
  {
   "cell_type": "code",
   "execution_count": null,
   "id": "a0c51a5e",
   "metadata": {},
   "outputs": [],
   "source": []
  }
 ],
 "metadata": {
  "kernelspec": {
   "display_name": "Python 3 (ipykernel)",
   "language": "python",
   "name": "python3"
  },
  "language_info": {
   "codemirror_mode": {
    "name": "ipython",
    "version": 3
   },
   "file_extension": ".py",
   "mimetype": "text/x-python",
   "name": "python",
   "nbconvert_exporter": "python",
   "pygments_lexer": "ipython3",
   "version": "3.10.10"
  }
 },
 "nbformat": 4,
 "nbformat_minor": 5
}
